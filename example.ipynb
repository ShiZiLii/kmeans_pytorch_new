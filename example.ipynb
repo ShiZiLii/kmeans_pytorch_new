{
 "cells": [
  {
   "cell_type": "code",
   "execution_count": 36,
   "metadata": {},
   "outputs": [],
   "source": [
    "import torch\n",
    "import numpy as np\n",
    "from kmeans_pytorch import kmeans, kmeans_predict\n",
    "import matplotlib.pyplot as plt"
   ]
  },
  {
   "cell_type": "code",
   "execution_count": 37,
   "metadata": {},
   "outputs": [
    {
     "name": "stdout",
     "output_type": "stream",
     "text": [
      "tensor([[0.4963, 0.7682],\n",
      "        [0.0885, 0.1320],\n",
      "        [0.3074, 0.6341],\n",
      "        ...,\n",
      "        [0.3940, 0.0602],\n",
      "        [0.0643, 0.5775],\n",
      "        [0.7935, 0.5059]])\n",
      "tensor([[0.0258, 0.5179],\n",
      "        [0.4353, 0.2864],\n",
      "        [0.6135, 0.6459],\n",
      "        [0.8227, 0.0469],\n",
      "        [0.0610, 0.7512],\n",
      "        [0.0746, 0.8440],\n",
      "        [0.1163, 0.5712],\n",
      "        [0.8833, 0.1726],\n",
      "        [0.5602, 0.6672],\n",
      "        [0.6008, 0.2334],\n",
      "        [0.6936, 0.1430],\n",
      "        [0.8556, 0.9621],\n",
      "        [0.9968, 0.8197],\n",
      "        [0.0701, 0.0717],\n",
      "        [0.3664, 0.1152],\n",
      "        [0.0994, 0.5454],\n",
      "        [0.5957, 0.7139],\n",
      "        [0.8089, 0.5453],\n",
      "        [0.1422, 0.0087],\n",
      "        [0.3137, 0.2668],\n",
      "        [0.0319, 0.2317],\n",
      "        [0.4146, 0.3837],\n",
      "        [0.1661, 0.1092],\n",
      "        [0.3573, 0.1245],\n",
      "        [0.9705, 0.5730],\n",
      "        [0.1667, 0.9721],\n",
      "        [0.2335, 0.6745],\n",
      "        [0.3992, 0.2241],\n",
      "        [0.7610, 0.7730],\n",
      "        [0.5207, 0.6237],\n",
      "        [0.0998, 0.5474],\n",
      "        [0.9593, 0.8403],\n",
      "        [0.5187, 0.0872],\n",
      "        [0.5531, 0.5771],\n",
      "        [0.4996, 0.5970],\n",
      "        [0.6627, 0.7257],\n",
      "        [0.1492, 0.7476],\n",
      "        [0.1096, 0.0704],\n",
      "        [0.5205, 0.0722],\n",
      "        [0.7621, 0.5251],\n",
      "        [0.8824, 0.6667],\n",
      "        [0.5194, 0.8974],\n",
      "        [0.3232, 0.1737],\n",
      "        [0.7322, 0.4161],\n",
      "        [0.8271, 0.8266],\n",
      "        [0.9619, 0.2065],\n",
      "        [0.4810, 0.3402],\n",
      "        [0.5980, 0.1204],\n",
      "        [0.7940, 0.0132],\n",
      "        [0.0822, 0.0685],\n",
      "        [0.3867, 0.3968],\n",
      "        [0.8235, 0.1943],\n",
      "        [0.2668, 0.3042],\n",
      "        [0.4468, 0.7034],\n",
      "        [0.4313, 0.1274],\n",
      "        [0.3502, 0.9635],\n",
      "        [0.3760, 0.6202],\n",
      "        [0.5682, 0.5550],\n",
      "        [0.8742, 0.7865],\n",
      "        [0.2683, 0.2320],\n",
      "        [0.4257, 0.5047],\n",
      "        [0.6699, 0.5219],\n",
      "        [0.5783, 0.1358],\n",
      "        [0.1148, 0.2944],\n",
      "        [0.3349, 0.9566],\n",
      "        [0.3722, 0.6745],\n",
      "        [0.8807, 0.5095],\n",
      "        [0.0409, 0.7716],\n",
      "        [0.2354, 0.9806],\n",
      "        [0.2751, 0.5557],\n",
      "        [0.2446, 0.9292],\n",
      "        [0.1153, 0.6964],\n",
      "        [0.3397, 0.6340],\n",
      "        [0.8949, 0.4079],\n",
      "        [0.2643, 0.7728],\n",
      "        [0.6799, 0.7033],\n",
      "        [0.8554, 0.5078],\n",
      "        [0.7604, 0.8619],\n",
      "        [0.7420, 0.4142],\n",
      "        [0.7706, 0.5347],\n",
      "        [0.9419, 0.3725],\n",
      "        [0.7901, 0.7447],\n",
      "        [0.6948, 0.5420],\n",
      "        [0.3347, 0.0647],\n",
      "        [0.4094, 0.8228],\n",
      "        [0.1142, 0.1351],\n",
      "        [0.7275, 0.4570],\n",
      "        [0.9574, 0.2222],\n",
      "        [0.4685, 0.9705],\n",
      "        [0.1212, 0.8660],\n",
      "        [0.1494, 0.5510],\n",
      "        [0.3075, 0.5895],\n",
      "        [0.3695, 0.6131],\n",
      "        [0.4696, 0.8272],\n",
      "        [0.0188, 0.2257],\n",
      "        [0.8006, 0.4820],\n",
      "        [0.8377, 0.9997],\n",
      "        [0.7959, 0.1300],\n",
      "        [0.1173, 0.4678],\n",
      "        [0.3435, 0.3675]])\n"
     ]
    }
   ],
   "source": [
    "data_size, dims, num_clusters = 100000, 2, 3  # 平面坐标\n",
    "# 随机生成两组数据，x用来进行训练，y用来进行预测，x与y遵循相同的分布\n",
    "# x 与 y均在[0,1)之间\n",
    "torch.manual_seed(0)\n",
    "x = torch.rand((data_size, dims))\n",
    "print(x)\n",
    "y = torch.rand((100, dims))\n",
    "print(y)"
   ]
  },
  {
   "cell_type": "code",
   "execution_count": 38,
   "metadata": {},
   "outputs": [],
   "source": [
    "if torch.cuda.is_available():\n",
    "    device = torch.device('cuda:0')\n",
    "else:\n",
    "    device = torch.device('cpu')\n",
    "    "
   ]
  },
  {
   "cell_type": "code",
   "execution_count": 39,
   "metadata": {},
   "outputs": [
    {
     "name": "stdout",
     "output_type": "stream",
     "text": [
      "running k-means on cuda:0..\n"
     ]
    },
    {
     "name": "stderr",
     "output_type": "stream",
     "text": [
      "[running kmeans]: 6it [00:00, 51.86it/s, center_shift=0.000099, iteration=6, tol=0.000100]\n"
     ]
    }
   ],
   "source": [
    "cluster_id, cluster_center_coordinates = kmeans(X=x, num_clusters=num_clusters, device=device)"
   ]
  },
  {
   "cell_type": "code",
   "execution_count": 40,
   "metadata": {},
   "outputs": [
    {
     "name": "stdout",
     "output_type": "stream",
     "text": [
      "tensor([1, 2, 0,  ..., 2, 0, 1])\n",
      "tensor([[0.2268, 0.6722],\n",
      "        [0.7625, 0.6989],\n",
      "        [0.5160, 0.1989]])\n"
     ]
    }
   ],
   "source": [
    "print(cluster_id)  # 每个点属于哪个中心点：0，1，2\n",
    "print(cluster_center_coordinates)  # 所有中心点的坐标"
   ]
  },
  {
   "cell_type": "code",
   "execution_count": 41,
   "metadata": {},
   "outputs": [
    {
     "name": "stdout",
     "output_type": "stream",
     "text": [
      "predicting on cuda:0..\n",
      "tensor([0, 2, 1, 2, 0, 0, 0, 2, 1, 2, 2, 1, 1, 2, 2, 0, 1, 1, 2, 2, 0, 2, 2, 2,\n",
      "        1, 0, 0, 2, 1, 1, 0, 1, 2, 1, 1, 1, 0, 2, 2, 1, 1, 1, 2, 1, 1, 2, 2, 2,\n",
      "        2, 2, 2, 2, 2, 0, 2, 0, 0, 1, 1, 2, 0, 1, 2, 0, 0, 0, 1, 0, 0, 0, 0, 0,\n",
      "        0, 1, 0, 1, 1, 1, 1, 1, 1, 1, 1, 2, 0, 2, 1, 2, 0, 0, 0, 0, 0, 0, 0, 1,\n",
      "        1, 2, 0, 2])\n"
     ]
    }
   ],
   "source": [
    "# 用x训练出来的中心点进行预测\n",
    "cluster_id_y = kmeans_predict(X=y, cluster_centers=cluster_center_coordinates, device=device)\n",
    "print(cluster_id_y)"
   ]
  },
  {
   "cell_type": "code",
   "execution_count": 42,
   "metadata": {},
   "outputs": [
    {
     "data": {
      "text/plain": [
       "(-2.0, 2.0)"
      ]
     },
     "execution_count": 42,
     "metadata": {},
     "output_type": "execute_result"
    },
    {
     "data": {
      "image/png": "[encoded data removed]",
      "text/plain": [
       "<Figure size 640x480 with 1 Axes>"
      ]
     },
     "metadata": {},
     "output_type": "display_data"
    }
   ],
   "source": [
    "plt.scatter(x[:, 0], x[:, 1], c = cluster_id)\n",
    "plt.xlim((-2,2))\n",
    "plt.ylim((-2,2))"
   ]
  },
  {
   "cell_type": "code",
   "execution_count": 43,
   "metadata": {},
   "outputs": [
    {
     "data": {
      "text/plain": [
       "(-2.0, 2.0)"
      ]
     },
     "execution_count": 43,
     "metadata": {},
     "output_type": "execute_result"
    },
    {
     "data": {
      "image/png": "[encoded data removed]",
      "text/plain": [
       "<Figure size 640x480 with 1 Axes>"
      ]
     },
     "metadata": {},
     "output_type": "display_data"
    }
   ],
   "source": [
    "plt.scatter(y[:, 0], y[:, 1], c = cluster_id_y)\n",
    "plt.xlim((-2,2))\n",
    "plt.ylim((-2,2))"
   ]
  },
  {
   "cell_type": "code",
   "execution_count": null,
   "metadata": {},
   "outputs": [],
   "source": []
  }
 ],
 "metadata": {
  "kernelspec": {
   "display_name": "base",
   "language": "python",
   "name": "python3"
  },
  "language_info": {
   "codemirror_mode": {
    "name": "ipython",
    "version": 3
   },
   "file_extension": ".py",
   "mimetype": "text/x-python",
   "name": "python",
   "nbconvert_exporter": "python",
   "pygments_lexer": "ipython3",
   "version": "3.9.16"
  },
  "orig_nbformat": 4
 },
 "nbformat": 4,
 "nbformat_minor": 2
}
